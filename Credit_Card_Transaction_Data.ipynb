{
  "nbformat": 4,
  "nbformat_minor": 0,
  "metadata": {
    "colab": {
      "provenance": []
    },
    "kernelspec": {
      "name": "python3",
      "display_name": "Python 3"
    },
    "language_info": {
      "name": "python"
    }
  },
  "cells": [
    {
      "cell_type": "markdown",
      "source": [
        "# **Creating Synthetic Data with Python Faker**"
      ],
      "metadata": {
        "id": "-j-IfTa5ezCt"
      }
    },
    {
      "cell_type": "markdown",
      "source": [
        "Generating synthetic data using Python Faker to supplement real-world data"
      ],
      "metadata": {
        "id": "-8E8nwy8it3T"
      }
    },
    {
      "cell_type": "code",
      "execution_count": 1,
      "metadata": {
        "colab": {
          "base_uri": "https://localhost:8080/"
        },
        "id": "z9YiCh6_evYP",
        "outputId": "4262a9ba-50af-4a38-b1f2-a4564499d6c5"
      },
      "outputs": [
        {
          "output_type": "stream",
          "name": "stdout",
          "text": [
            "Collecting faker\n",
            "  Downloading Faker-26.0.0-py3-none-any.whl (1.8 MB)\n",
            "\u001b[2K     \u001b[90m━━━━━━━━━━━━━━━━━━━━━━━━━━━━━━━━━━━━━━━━\u001b[0m \u001b[32m1.8/1.8 MB\u001b[0m \u001b[31m15.9 MB/s\u001b[0m eta \u001b[36m0:00:00\u001b[0m\n",
            "\u001b[?25hRequirement already satisfied: python-dateutil>=2.4 in /usr/local/lib/python3.10/dist-packages (from faker) (2.8.2)\n",
            "Requirement already satisfied: six>=1.5 in /usr/local/lib/python3.10/dist-packages (from python-dateutil>=2.4->faker) (1.16.0)\n",
            "Installing collected packages: faker\n",
            "Successfully installed faker-26.0.0\n"
          ]
        }
      ],
      "source": [
        "!pip install faker"
      ]
    },
    {
      "cell_type": "code",
      "source": [
        "from faker import Faker\n",
        "import pandas as pd\n",
        "# create an instance of Faker\n",
        "fake= Faker(locale='en_US') # the locale is very important, its what our data's identity will be based on. ar means arabic for example ,i will be using English in this project\n",
        "fake.name()"
      ],
      "metadata": {
        "colab": {
          "base_uri": "https://localhost:8080/",
          "height": 36
        },
        "id": "9IMBsVvKfLNt",
        "outputId": "0f93f680-c1dc-42f3-c7bc-5491b25d06bc"
      },
      "execution_count": 5,
      "outputs": [
        {
          "output_type": "execute_result",
          "data": {
            "text/plain": [
              "'April Wheeler'"
            ],
            "application/vnd.google.colaboratory.intrinsic+json": {
              "type": "string"
            }
          },
          "metadata": {},
          "execution_count": 5
        }
      ]
    },
    {
      "cell_type": "markdown",
      "source": [
        "Playing around with the functiones of the faker library"
      ],
      "metadata": {
        "id": "Gu9OqmS7fvna"
      }
    },
    {
      "cell_type": "code",
      "source": [
        "print(fake.last_name())\n",
        "print(fake.first_name())\n",
        "print(fake.name())\n",
        "print(fake.job())\n",
        "print(fake.address())\n",
        "print(fake.company())\n",
        "print(fake.email())\n",
        "print(fake.phone_number())\n",
        "print(fake.country())\n",
        "print(fake.city())\n",
        "print(fake.state())\n",
        "print(fake.postcode())\n",
        "print(fake.latitude())\n",
        "print(fake.longitude())"
      ],
      "metadata": {
        "colab": {
          "base_uri": "https://localhost:8080/"
        },
        "id": "lzPD_nZsfoqD",
        "outputId": "46e5a697-b84b-4134-ac0b-ad74920d59ab"
      },
      "execution_count": 8,
      "outputs": [
        {
          "output_type": "stream",
          "name": "stdout",
          "text": [
            "Watson\n",
            "Kimberly\n",
            "Amanda Fleming\n",
            "Special educational needs teacher\n",
            "06298 Vazquez Lane Suite 005\n",
            "Faithberg, VI 60478\n",
            "Williams PLC\n",
            "catherine54@example.com\n",
            "2534796931\n",
            "Burundi\n",
            "North Ianstad\n",
            "Mississippi\n",
            "25849\n",
            "-31.8204825\n",
            "-176.631066\n"
          ]
        }
      ]
    },
    {
      "cell_type": "code",
      "source": [
        "# Generate mock data for Customers\n",
        "def generate_customers(n):\n",
        "    customers = []\n",
        "    for _ in range(n):\n",
        "        customer = {\n",
        "            \"CustomerID\": fake.uuid4(),\n",
        "            \"FirstName\": fake.first_name(),\n",
        "            \"LastName\": fake.last_name(),\n",
        "            \"Email\": fake.email(),\n",
        "            \"Phone\": fake.phone_number(),\n",
        "            \"Address\": fake.address(),\n",
        "            \"City\": fake.city(),\n",
        "            \"State\": fake.state(),\n",
        "            \"Country\": fake.country(),\n",
        "            \"ZipCode\": fake.zipcode()\n",
        "        }\n",
        "        customers.append(customer)\n",
        "    return customers\n",
        "\n",
        "    # Generate mock data for Transactions\n",
        "def generate_transactions(customers, n):\n",
        "    transactions = []\n",
        "    for _ in range(n):\n",
        "        transaction = {\n",
        "            \"TransactionID\": fake.uuid4(),\n",
        "            \"CustomerID\": random.choice(customers)[\"CustomerID\"],\n",
        "            \"TransactionDate\": fake.date_time_this_year(),\n",
        "            \"TransactionAmount\": round(random.uniform(10.0, 1000.0), 2),\n",
        "            \"MerchantName\": fake.company(),\n",
        "            \"MerchantCategory\": fake.bs(),\n",
        "            \"TransactionType\": random.choice([\"Purchase\", \"Refund\"]),\n",
        "            \"TransactionStatus\": random.choice([\"Approved\", \"Declined\"])\n",
        "        }\n",
        "        transactions.append(transaction)\n",
        "    return transactions\n"
      ],
      "metadata": {
        "id": "NIn9Ot4lgxxf"
      },
      "execution_count": 9,
      "outputs": []
    },
    {
      "cell_type": "code",
      "source": [
        "# Generate and print sample data\n",
        "num_customers = 1000\n",
        "num_transactions = 5000"
      ],
      "metadata": {
        "id": "TwKiYwXRhD1-"
      },
      "execution_count": 10,
      "outputs": []
    },
    {
      "cell_type": "code",
      "source": [
        "import random"
      ],
      "metadata": {
        "id": "LpYUkfethdwc"
      },
      "execution_count": 12,
      "outputs": []
    },
    {
      "cell_type": "code",
      "source": [
        "customers = generate_customers(num_customers)\n",
        "transactions = generate_transactions(customers, num_transactions)"
      ],
      "metadata": {
        "id": "Wm2cgWl2hJaK"
      },
      "execution_count": 13,
      "outputs": []
    },
    {
      "cell_type": "code",
      "source": [
        "print(\"Sample Customers Data:\")\n",
        "for customer in customers[:5]:\n",
        "    print(customer)\n"
      ],
      "metadata": {
        "colab": {
          "base_uri": "https://localhost:8080/"
        },
        "id": "KDukLBUGhNG9",
        "outputId": "2ba9cbde-d548-4727-8859-47f50edeb127"
      },
      "execution_count": 14,
      "outputs": [
        {
          "output_type": "stream",
          "name": "stdout",
          "text": [
            "Sample Customers Data:\n",
            "{'CustomerID': '5227e191-86a0-4185-8506-72042b1084fd', 'FirstName': 'Nathan', 'LastName': 'Hunter', 'Email': 'candicegardner@example.org', 'Phone': '(830)394-0017x5575', 'Address': '95599 Lowery Summit Apt. 169\\nDaviesmouth, GU 56765', 'City': 'Port Melissamouth', 'State': 'California', 'Country': 'Saint Martin', 'ZipCode': '64997'}\n",
            "{'CustomerID': '0239ee2e-fab0-47d8-bd98-4cf36117f7bb', 'FirstName': 'Matthew', 'LastName': 'Fisher', 'Email': 'juanroberts@example.org', 'Phone': '001-926-479-8979', 'Address': 'Unit 6377 Box 7939\\nDPO AA 57081', 'City': 'Port Dana', 'State': 'Massachusetts', 'Country': 'Luxembourg', 'ZipCode': '19021'}\n",
            "{'CustomerID': '1efb29b7-d6f0-458a-ad80-f9ac2b4b487b', 'FirstName': 'Sarah', 'LastName': 'Rhodes', 'Email': 'jillgregory@example.com', 'Phone': '762.719.0153', 'Address': '68222 Huynh Mills\\nEast Jill, CT 88693', 'City': 'South Janetside', 'State': 'Connecticut', 'Country': 'Tajikistan', 'ZipCode': '88369'}\n",
            "{'CustomerID': 'f1ffaadf-8174-443c-a0b6-8ba7914645a6', 'FirstName': 'Devin', 'LastName': 'Burns', 'Email': 'rebeccamorales@example.org', 'Phone': '915.858.9888x9834', 'Address': '985 Gregory Ford Suite 734\\nLake Debra, WA 46588', 'City': 'North Richard', 'State': 'North Dakota', 'Country': 'France', 'ZipCode': '43526'}\n",
            "{'CustomerID': '783b9c1f-da5f-4d51-9ee8-7e677dcfea2a', 'FirstName': 'Lisa', 'LastName': 'Manning', 'Email': 'travis16@example.net', 'Phone': '993-596-7807x647', 'Address': '257 Moreno Lights Apt. 898\\nAndersontown, VA 55315', 'City': 'East Derek', 'State': 'North Dakota', 'Country': 'China', 'ZipCode': '77748'}\n"
          ]
        }
      ]
    },
    {
      "cell_type": "code",
      "source": [
        "print(\"\\nSample Transactions Data:\")\n",
        "for transaction in transactions[:5]:\n",
        "    print(transaction)"
      ],
      "metadata": {
        "colab": {
          "base_uri": "https://localhost:8080/"
        },
        "id": "2W2gcfcyhOv4",
        "outputId": "f242c336-6faf-415b-d501-42918afac5e5"
      },
      "execution_count": 15,
      "outputs": [
        {
          "output_type": "stream",
          "name": "stdout",
          "text": [
            "\n",
            "Sample Transactions Data:\n",
            "{'TransactionID': '886e1f2c-b2c1-4b4a-973c-94b1bbb6de65', 'CustomerID': '56bfa21a-9b4a-40e4-b3aa-197e5713eb4c', 'TransactionDate': datetime.datetime(2024, 6, 29, 17, 36, 47, 750582), 'TransactionAmount': 697.24, 'MerchantName': 'Jensen and Sons', 'MerchantCategory': 'productize cross-platform technologies', 'TransactionType': 'Purchase', 'TransactionStatus': 'Approved'}\n",
            "{'TransactionID': 'd1ab99fc-9693-4fbc-a76a-259c08563cfa', 'CustomerID': '9c540c46-add7-402a-8870-80aa58a202c7', 'TransactionDate': datetime.datetime(2024, 2, 1, 19, 8, 33, 583737), 'TransactionAmount': 92.8, 'MerchantName': 'Tran-Dunn', 'MerchantCategory': 'engineer robust niches', 'TransactionType': 'Refund', 'TransactionStatus': 'Declined'}\n",
            "{'TransactionID': 'fd52448c-1b34-4656-9115-b9fb7f3d5b90', 'CustomerID': '379e9239-d43b-4ca1-a0a6-9edfe3113d5e', 'TransactionDate': datetime.datetime(2024, 1, 28, 4, 6, 26, 478481), 'TransactionAmount': 915.83, 'MerchantName': 'Herring, Howell and Mullins', 'MerchantCategory': 'monetize front-end users', 'TransactionType': 'Refund', 'TransactionStatus': 'Approved'}\n",
            "{'TransactionID': 'a9b7f851-e521-4c87-8bd5-4a1cc26da622', 'CustomerID': 'd7f1a61b-2325-48ac-a74b-5073a0059f85', 'TransactionDate': datetime.datetime(2024, 2, 20, 13, 49, 39, 51475), 'TransactionAmount': 459.0, 'MerchantName': 'Harris Inc', 'MerchantCategory': 'revolutionize out-of-the-box users', 'TransactionType': 'Refund', 'TransactionStatus': 'Approved'}\n",
            "{'TransactionID': '2cd7c247-af92-4a75-b2a4-b4927efbcdc1', 'CustomerID': '57b6af7d-8fee-4d58-9ac7-eeac65762c9d', 'TransactionDate': datetime.datetime(2024, 4, 18, 2, 26, 37, 422427), 'TransactionAmount': 366.49, 'MerchantName': 'Rodriguez, Scott and Hill', 'MerchantCategory': 'empower 24/7 markets', 'TransactionType': 'Refund', 'TransactionStatus': 'Approved'}\n"
          ]
        }
      ]
    },
    {
      "cell_type": "markdown",
      "source": [
        "# **After generating the mock data, we can save it to CSV files**"
      ],
      "metadata": {
        "id": "WNUXgJ6vh-3R"
      }
    },
    {
      "cell_type": "code",
      "source": [
        "# Convert to DataFrames\n",
        "customers_df = pd.DataFrame(customers)\n",
        "transactions_df = pd.DataFrame(transactions)\n"
      ],
      "metadata": {
        "id": "xvahI9kBhppl"
      },
      "execution_count": 16,
      "outputs": []
    },
    {
      "cell_type": "code",
      "source": [
        "# Saving to CSV\n",
        "customers_df.to_csv('customers.csv', index=False)\n",
        "transactions_df.to_csv('transactions.csv', index=False)"
      ],
      "metadata": {
        "id": "E3t67U1Rhsdl"
      },
      "execution_count": 17,
      "outputs": []
    },
    {
      "cell_type": "markdown",
      "source": [
        "Download the files from Colab"
      ],
      "metadata": {
        "id": "v33GzD8Xh18s"
      }
    },
    {
      "cell_type": "code",
      "source": [
        "from google.colab import files\n",
        "\n",
        "# Download CSV files\n",
        "files.download('customers.csv')\n",
        "files.download('transactions.csv')\n"
      ],
      "metadata": {
        "colab": {
          "base_uri": "https://localhost:8080/",
          "height": 17
        },
        "id": "YqrrePhHhv-f",
        "outputId": "73c8fb08-499d-4053-d2e9-c1822cae140b"
      },
      "execution_count": 18,
      "outputs": [
        {
          "output_type": "display_data",
          "data": {
            "text/plain": [
              "<IPython.core.display.Javascript object>"
            ],
            "application/javascript": [
              "\n",
              "    async function download(id, filename, size) {\n",
              "      if (!google.colab.kernel.accessAllowed) {\n",
              "        return;\n",
              "      }\n",
              "      const div = document.createElement('div');\n",
              "      const label = document.createElement('label');\n",
              "      label.textContent = `Downloading \"${filename}\": `;\n",
              "      div.appendChild(label);\n",
              "      const progress = document.createElement('progress');\n",
              "      progress.max = size;\n",
              "      div.appendChild(progress);\n",
              "      document.body.appendChild(div);\n",
              "\n",
              "      const buffers = [];\n",
              "      let downloaded = 0;\n",
              "\n",
              "      const channel = await google.colab.kernel.comms.open(id);\n",
              "      // Send a message to notify the kernel that we're ready.\n",
              "      channel.send({})\n",
              "\n",
              "      for await (const message of channel.messages) {\n",
              "        // Send a message to notify the kernel that we're ready.\n",
              "        channel.send({})\n",
              "        if (message.buffers) {\n",
              "          for (const buffer of message.buffers) {\n",
              "            buffers.push(buffer);\n",
              "            downloaded += buffer.byteLength;\n",
              "            progress.value = downloaded;\n",
              "          }\n",
              "        }\n",
              "      }\n",
              "      const blob = new Blob(buffers, {type: 'application/binary'});\n",
              "      const a = document.createElement('a');\n",
              "      a.href = window.URL.createObjectURL(blob);\n",
              "      a.download = filename;\n",
              "      div.appendChild(a);\n",
              "      a.click();\n",
              "      div.remove();\n",
              "    }\n",
              "  "
            ]
          },
          "metadata": {}
        },
        {
          "output_type": "display_data",
          "data": {
            "text/plain": [
              "<IPython.core.display.Javascript object>"
            ],
            "application/javascript": [
              "download(\"download_adbf6eb0-1d3c-4664-b38a-764f0ef9f367\", \"customers.csv\", 177794)"
            ]
          },
          "metadata": {}
        },
        {
          "output_type": "display_data",
          "data": {
            "text/plain": [
              "<IPython.core.display.Javascript object>"
            ],
            "application/javascript": [
              "\n",
              "    async function download(id, filename, size) {\n",
              "      if (!google.colab.kernel.accessAllowed) {\n",
              "        return;\n",
              "      }\n",
              "      const div = document.createElement('div');\n",
              "      const label = document.createElement('label');\n",
              "      label.textContent = `Downloading \"${filename}\": `;\n",
              "      div.appendChild(label);\n",
              "      const progress = document.createElement('progress');\n",
              "      progress.max = size;\n",
              "      div.appendChild(progress);\n",
              "      document.body.appendChild(div);\n",
              "\n",
              "      const buffers = [];\n",
              "      let downloaded = 0;\n",
              "\n",
              "      const channel = await google.colab.kernel.comms.open(id);\n",
              "      // Send a message to notify the kernel that we're ready.\n",
              "      channel.send({})\n",
              "\n",
              "      for await (const message of channel.messages) {\n",
              "        // Send a message to notify the kernel that we're ready.\n",
              "        channel.send({})\n",
              "        if (message.buffers) {\n",
              "          for (const buffer of message.buffers) {\n",
              "            buffers.push(buffer);\n",
              "            downloaded += buffer.byteLength;\n",
              "            progress.value = downloaded;\n",
              "          }\n",
              "        }\n",
              "      }\n",
              "      const blob = new Blob(buffers, {type: 'application/binary'});\n",
              "      const a = document.createElement('a');\n",
              "      a.href = window.URL.createObjectURL(blob);\n",
              "      a.download = filename;\n",
              "      div.appendChild(a);\n",
              "      a.click();\n",
              "      div.remove();\n",
              "    }\n",
              "  "
            ]
          },
          "metadata": {}
        },
        {
          "output_type": "display_data",
          "data": {
            "text/plain": [
              "<IPython.core.display.Javascript object>"
            ],
            "application/javascript": [
              "download(\"download_e7913e27-0675-4c71-a305-2f346deb7b43\", \"transactions.csv\", 868889)"
            ]
          },
          "metadata": {}
        }
      ]
    }
  ]
}