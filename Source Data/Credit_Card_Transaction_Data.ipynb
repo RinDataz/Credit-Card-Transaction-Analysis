{
  "nbformat": 4,
  "nbformat_minor": 0,
  "metadata": {
    "colab": {
      "provenance": []
    },
    "kernelspec": {
      "name": "python3",
      "display_name": "Python 3"
    },
    "language_info": {
      "name": "python"
    }
  },
  "cells": [
    {
      "cell_type": "markdown",
      "source": [
        "# **Creating Synthetic Data with Python Faker**"
      ],
      "metadata": {
        "id": "-j-IfTa5ezCt"
      }
    },
    {
      "cell_type": "markdown",
      "source": [
        "Generating synthetic data using Python Faker to supplement real-world data"
      ],
      "metadata": {
        "id": "-8E8nwy8it3T"
      }
    },
    {
      "cell_type": "code",
      "execution_count": 1,
      "metadata": {
        "colab": {
          "base_uri": "https://localhost:8080/"
        },
        "id": "z9YiCh6_evYP",
        "outputId": "4262a9ba-50af-4a38-b1f2-a4564499d6c5"
      },
      "outputs": [
        {
          "output_type": "stream",
          "name": "stdout",
          "text": [
            "Collecting faker\n",
            "  Downloading Faker-26.0.0-py3-none-any.whl (1.8 MB)\n",
            "\u001b[2K     \u001b[90m━━━━━━━━━━━━━━━━━━━━━━━━━━━━━━━━━━━━━━━━\u001b[0m \u001b[32m1.8/1.8 MB\u001b[0m \u001b[31m15.9 MB/s\u001b[0m eta \u001b[36m0:00:00\u001b[0m\n",
            "\u001b[?25hRequirement already satisfied: python-dateutil>=2.4 in /usr/local/lib/python3.10/dist-packages (from faker) (2.8.2)\n",
            "Requirement already satisfied: six>=1.5 in /usr/local/lib/python3.10/dist-packages (from python-dateutil>=2.4->faker) (1.16.0)\n",
            "Installing collected packages: faker\n",
            "Successfully installed faker-26.0.0\n"
          ]
        }
      ],
      "source": [
        "!pip install faker"
      ]
    },
    {
      "cell_type": "code",
      "source": [
        "from faker import Faker\n",
        "import pandas as pd\n",
        "# create an instance of Faker\n",
        "fake= Faker(locale='en_US') # the locale is very important, its what our data's identity will be based on. ar means arabic for example ,i will be using English in this project\n",
        "fake.name()"
      ],
      "metadata": {
        "colab": {
          "base_uri": "https://localhost:8080/",
          "height": 36
        },
        "id": "9IMBsVvKfLNt",
        "outputId": "0f93f680-c1dc-42f3-c7bc-5491b25d06bc"
      },
      "execution_count": 5,
      "outputs": [
        {
          "output_type": "execute_result",
          "data": {
            "text/plain": [
              "'April Wheeler'"
            ],
            "application/vnd.google.colaboratory.intrinsic+json": {
              "type": "string"
            }
          },
          "metadata": {},
          "execution_count": 5
        }
      ]
    },
    {
      "cell_type": "markdown",
      "source": [
        "Playing around with the functiones of the faker library"
      ],
      "metadata": {
        "id": "Gu9OqmS7fvna"
      }
    },
    {
      "cell_type": "code",
      "source": [
        "print(fake.last_name())\n",
        "print(fake.first_name())\n",
        "print(fake.name())\n",
        "print(fake.job())\n",
        "print(fake.address())\n",
        "print(fake.company())\n",
        "print(fake.email())\n",
        "print(fake.phone_number())\n",
        "print(fake.country())\n",
        "print(fake.city())\n",
        "print(fake.state())\n",
        "print(fake.postcode())\n",
        "print(fake.latitude())\n",
        "print(fake.longitude())"
      ],
      "metadata": {
        "colab": {
          "base_uri": "https://localhost:8080/"
        },
        "id": "lzPD_nZsfoqD",
        "outputId": "46e5a697-b84b-4134-ac0b-ad74920d59ab"
      },
      "execution_count": 8,
      "outputs": [
        {
          "output_type": "stream",
          "name": "stdout",
          "text": [
            "Watson\n",
            "Kimberly\n",
            "Amanda Fleming\n",
            "Special educational needs teacher\n",
            "06298 Vazquez Lane Suite 005\n",
            "Faithberg, VI 60478\n",
            "Williams PLC\n",
            "catherine54@example.com\n",
            "2534796931\n",
            "Burundi\n",
            "North Ianstad\n",
            "Mississippi\n",
            "25849\n",
            "-31.8204825\n",
            "-176.631066\n"
          ]
        }
      ]
    },
    {
      "cell_type": "code",
      "source": [
        "# Generate mock data for Customers\n",
        "def generate_customers(n):\n",
        "    customers = []\n",
        "    for _ in range(n):\n",
        "        customer = {\n",
        "            \"CustomerID\": fake.uuid4(),\n",
        "            \"FirstName\": fake.first_name(),\n",
        "            \"LastName\": fake.last_name(),\n",
        "            \"Email\": fake.email(),\n",
        "            \"Phone\": fake.phone_number(),\n",
        "            \"Address\": fake.address(),\n",
        "            \"City\": fake.city(),\n",
        "            \"State\": fake.state(),\n",
        "            \"Country\": fake.country(),\n",
        "            \"ZipCode\": fake.zipcode()\n",
        "        }\n",
        "        customers.append(customer)\n",
        "    return customers\n",
        "\n",
        "    # Generate mock data for Transactions\n",
        "def generate_transactions(customers, n):\n",
        "    transactions = []\n",
        "    for _ in range(n):\n",
        "        transaction = {\n",
        "            \"TransactionID\": fake.uuid4(),\n",
        "            \"CustomerID\": random.choice(customers)[\"CustomerID\"],\n",
        "            \"TransactionDate\": fake.date_time_this_year().strftime('%Y-%m-%d %H:%M:%S'),  # Format datetime\n",
        "            \"TransactionAmount\": round(random.uniform(10.0, 1000.0), 2),\n",
        "            \"MerchantName\": fake.company(),\n",
        "            \"MerchantCategory\": fake.bs(),\n",
        "            \"TransactionType\": random.choice([\"Purchase\", \"Refund\"]),\n",
        "            \"TransactionStatus\": random.choice([\"Approved\", \"Declined\"])\n",
        "        }\n",
        "        transactions.append(transaction)\n",
        "    return transactions\n"
      ],
      "metadata": {
        "id": "NIn9Ot4lgxxf"
      },
      "execution_count": 20,
      "outputs": []
    },
    {
      "cell_type": "code",
      "source": [
        "# Generate and print sample data\n",
        "num_customers = 1000\n",
        "num_transactions = 5000"
      ],
      "metadata": {
        "id": "TwKiYwXRhD1-"
      },
      "execution_count": 21,
      "outputs": []
    },
    {
      "cell_type": "code",
      "source": [
        "import random"
      ],
      "metadata": {
        "id": "LpYUkfethdwc"
      },
      "execution_count": 22,
      "outputs": []
    },
    {
      "cell_type": "code",
      "source": [
        "customers = generate_customers(num_customers)\n",
        "transactions = generate_transactions(customers, num_transactions)"
      ],
      "metadata": {
        "id": "Wm2cgWl2hJaK"
      },
      "execution_count": 23,
      "outputs": []
    },
    {
      "cell_type": "code",
      "source": [
        "print(\"Sample Customers Data:\")\n",
        "for customer in customers[:5]:\n",
        "    print(customer)\n"
      ],
      "metadata": {
        "colab": {
          "base_uri": "https://localhost:8080/"
        },
        "id": "KDukLBUGhNG9",
        "outputId": "b9ebdbc8-9f69-4733-abfb-e0f7fcd9b254"
      },
      "execution_count": 24,
      "outputs": [
        {
          "output_type": "stream",
          "name": "stdout",
          "text": [
            "Sample Customers Data:\n",
            "{'CustomerID': '59aee371-39e0-43c7-a4bc-e6f2330f7bf3', 'FirstName': 'Rodney', 'LastName': 'Berry', 'Email': 'samantha51@example.net', 'Phone': '001-649-878-9465x24239', 'Address': '007 Katherine Dale\\nEast Christopher, OR 79915', 'City': 'New Elizabethhaven', 'State': 'Washington', 'Country': 'Isle of Man', 'ZipCode': '08412'}\n",
            "{'CustomerID': '3c549fcf-5ba0-4dd4-a1a6-29e2566feb6b', 'FirstName': 'Justin', 'LastName': 'Boyer', 'Email': 'kaitlinsandoval@example.net', 'Phone': '376-223-5746x2930', 'Address': '270 Holland Route\\nDianemouth, NV 78667', 'City': 'Jenniferland', 'State': 'Alaska', 'Country': 'Ireland', 'ZipCode': '86193'}\n",
            "{'CustomerID': '5afc93b2-43bb-47c2-8680-623fc1240a1c', 'FirstName': 'Lisa', 'LastName': 'Gomez', 'Email': 'valentinejuan@example.org', 'Phone': '7894881712', 'Address': '2717 Guzman Meadow\\nSouth David, ID 96889', 'City': 'South Meagan', 'State': 'Texas', 'Country': 'Pitcairn Islands', 'ZipCode': '44019'}\n",
            "{'CustomerID': 'de9fd815-5e9c-4cf5-ae7f-d64a2d8020fa', 'FirstName': 'David', 'LastName': 'Johnson', 'Email': 'tross@example.com', 'Phone': '001-566-930-7741', 'Address': '031 Robinson Walks Suite 551\\nNew Jessica, GA 59636', 'City': 'Samanthaland', 'State': 'Minnesota', 'Country': 'Ecuador', 'ZipCode': '68897'}\n",
            "{'CustomerID': '8b314800-1909-4cfa-88cb-90e25a01eabc', 'FirstName': 'Pamela', 'LastName': 'Graves', 'Email': 'david97@example.org', 'Phone': '+1-414-700-9943x728', 'Address': '077 Jesse Squares\\nAntonioton, CO 31661', 'City': 'South Sherri', 'State': 'North Dakota', 'Country': 'Venezuela', 'ZipCode': '45708'}\n"
          ]
        }
      ]
    },
    {
      "cell_type": "code",
      "source": [
        "print(\"\\nSample Transactions Data:\")\n",
        "for transaction in transactions[:5]:\n",
        "    print(transaction)"
      ],
      "metadata": {
        "colab": {
          "base_uri": "https://localhost:8080/"
        },
        "id": "2W2gcfcyhOv4",
        "outputId": "319e7214-ffd0-4b1f-bf7b-5e612154798d"
      },
      "execution_count": 25,
      "outputs": [
        {
          "output_type": "stream",
          "name": "stdout",
          "text": [
            "\n",
            "Sample Transactions Data:\n",
            "{'TransactionID': 'b082bcbe-32e6-4a73-90bd-698e874d3b60', 'CustomerID': '398a69b2-e031-404e-9a09-4b5a799b9ea5', 'TransactionDate': '2024-02-06 20:21:33', 'TransactionAmount': 665.4, 'MerchantName': 'Robinson, Vazquez and Cohen', 'MerchantCategory': 'unleash cutting-edge schemas', 'TransactionType': 'Purchase', 'TransactionStatus': 'Declined'}\n",
            "{'TransactionID': 'ab18707a-016d-465c-ad20-145ae1075bab', 'CustomerID': '26a00f3f-0521-49eb-892e-055b6e5d18f6', 'TransactionDate': '2024-02-08 10:45:51', 'TransactionAmount': 787.51, 'MerchantName': 'Reynolds Ltd', 'MerchantCategory': 'generate revolutionary methodologies', 'TransactionType': 'Refund', 'TransactionStatus': 'Declined'}\n",
            "{'TransactionID': 'e37a8ada-d3d2-49ff-bd01-facbdb3b708c', 'CustomerID': '6902350d-36ca-4e84-9261-ea510b431e3e', 'TransactionDate': '2024-06-12 23:47:43', 'TransactionAmount': 448.89, 'MerchantName': 'Sherman LLC', 'MerchantCategory': 'drive B2B platforms', 'TransactionType': 'Refund', 'TransactionStatus': 'Declined'}\n",
            "{'TransactionID': 'bf46e17c-c89c-43e7-b456-027d4bc0ed0d', 'CustomerID': '1a9d026c-a87e-4d1d-af95-f8447ab86ea2', 'TransactionDate': '2024-01-19 02:15:22', 'TransactionAmount': 492.36, 'MerchantName': 'Stokes-Marquez', 'MerchantCategory': 'transition granular mindshare', 'TransactionType': 'Purchase', 'TransactionStatus': 'Declined'}\n",
            "{'TransactionID': '6e197060-9eaa-40a4-b108-cdd08a3165c9', 'CustomerID': 'b50cae6b-250e-45e9-8c49-26429fe99d94', 'TransactionDate': '2024-02-07 17:34:08', 'TransactionAmount': 883.09, 'MerchantName': 'Garrett, Campbell and Thompson', 'MerchantCategory': 'enhance global synergies', 'TransactionType': 'Refund', 'TransactionStatus': 'Declined'}\n"
          ]
        }
      ]
    },
    {
      "cell_type": "markdown",
      "source": [
        "# **After generating the mock data, we can save it to CSV files**"
      ],
      "metadata": {
        "id": "WNUXgJ6vh-3R"
      }
    },
    {
      "cell_type": "code",
      "source": [
        "# Convert to DataFrames\n",
        "customers_df = pd.DataFrame(customers)\n",
        "transactions_df = pd.DataFrame(transactions)\n"
      ],
      "metadata": {
        "id": "xvahI9kBhppl"
      },
      "execution_count": 26,
      "outputs": []
    },
    {
      "cell_type": "code",
      "source": [
        "# Saving to CSV\n",
        "customers_df.to_csv('customers.csv', index=False)\n",
        "transactions_df.to_csv('transactions.csv', index=False)"
      ],
      "metadata": {
        "id": "E3t67U1Rhsdl"
      },
      "execution_count": 27,
      "outputs": []
    },
    {
      "cell_type": "markdown",
      "source": [
        "Download the files from Colab"
      ],
      "metadata": {
        "id": "v33GzD8Xh18s"
      }
    },
    {
      "cell_type": "code",
      "source": [
        "from google.colab import files\n",
        "\n",
        "# Download CSV files\n",
        "files.download('customers.csv')\n",
        "files.download('transactions.csv')\n"
      ],
      "metadata": {
        "colab": {
          "base_uri": "https://localhost:8080/",
          "height": 17
        },
        "id": "YqrrePhHhv-f",
        "outputId": "88f48ef1-7763-4d60-d6c4-0a6dcededf2c"
      },
      "execution_count": 28,
      "outputs": [
        {
          "output_type": "display_data",
          "data": {
            "text/plain": [
              "<IPython.core.display.Javascript object>"
            ],
            "application/javascript": [
              "\n",
              "    async function download(id, filename, size) {\n",
              "      if (!google.colab.kernel.accessAllowed) {\n",
              "        return;\n",
              "      }\n",
              "      const div = document.createElement('div');\n",
              "      const label = document.createElement('label');\n",
              "      label.textContent = `Downloading \"${filename}\": `;\n",
              "      div.appendChild(label);\n",
              "      const progress = document.createElement('progress');\n",
              "      progress.max = size;\n",
              "      div.appendChild(progress);\n",
              "      document.body.appendChild(div);\n",
              "\n",
              "      const buffers = [];\n",
              "      let downloaded = 0;\n",
              "\n",
              "      const channel = await google.colab.kernel.comms.open(id);\n",
              "      // Send a message to notify the kernel that we're ready.\n",
              "      channel.send({})\n",
              "\n",
              "      for await (const message of channel.messages) {\n",
              "        // Send a message to notify the kernel that we're ready.\n",
              "        channel.send({})\n",
              "        if (message.buffers) {\n",
              "          for (const buffer of message.buffers) {\n",
              "            buffers.push(buffer);\n",
              "            downloaded += buffer.byteLength;\n",
              "            progress.value = downloaded;\n",
              "          }\n",
              "        }\n",
              "      }\n",
              "      const blob = new Blob(buffers, {type: 'application/binary'});\n",
              "      const a = document.createElement('a');\n",
              "      a.href = window.URL.createObjectURL(blob);\n",
              "      a.download = filename;\n",
              "      div.appendChild(a);\n",
              "      a.click();\n",
              "      div.remove();\n",
              "    }\n",
              "  "
            ]
          },
          "metadata": {}
        },
        {
          "output_type": "display_data",
          "data": {
            "text/plain": [
              "<IPython.core.display.Javascript object>"
            ],
            "application/javascript": [
              "download(\"download_c8d79a73-3c46-407f-995e-02631df13cbf\", \"customers.csv\", 178433)"
            ]
          },
          "metadata": {}
        },
        {
          "output_type": "display_data",
          "data": {
            "text/plain": [
              "<IPython.core.display.Javascript object>"
            ],
            "application/javascript": [
              "\n",
              "    async function download(id, filename, size) {\n",
              "      if (!google.colab.kernel.accessAllowed) {\n",
              "        return;\n",
              "      }\n",
              "      const div = document.createElement('div');\n",
              "      const label = document.createElement('label');\n",
              "      label.textContent = `Downloading \"${filename}\": `;\n",
              "      div.appendChild(label);\n",
              "      const progress = document.createElement('progress');\n",
              "      progress.max = size;\n",
              "      div.appendChild(progress);\n",
              "      document.body.appendChild(div);\n",
              "\n",
              "      const buffers = [];\n",
              "      let downloaded = 0;\n",
              "\n",
              "      const channel = await google.colab.kernel.comms.open(id);\n",
              "      // Send a message to notify the kernel that we're ready.\n",
              "      channel.send({})\n",
              "\n",
              "      for await (const message of channel.messages) {\n",
              "        // Send a message to notify the kernel that we're ready.\n",
              "        channel.send({})\n",
              "        if (message.buffers) {\n",
              "          for (const buffer of message.buffers) {\n",
              "            buffers.push(buffer);\n",
              "            downloaded += buffer.byteLength;\n",
              "            progress.value = downloaded;\n",
              "          }\n",
              "        }\n",
              "      }\n",
              "      const blob = new Blob(buffers, {type: 'application/binary'});\n",
              "      const a = document.createElement('a');\n",
              "      a.href = window.URL.createObjectURL(blob);\n",
              "      a.download = filename;\n",
              "      div.appendChild(a);\n",
              "      a.click();\n",
              "      div.remove();\n",
              "    }\n",
              "  "
            ]
          },
          "metadata": {}
        },
        {
          "output_type": "display_data",
          "data": {
            "text/plain": [
              "<IPython.core.display.Javascript object>"
            ],
            "application/javascript": [
              "download(\"download_c064feb5-144f-4225-8ff5-2f7f1c5fb6f0\", \"transactions.csv\", 832877)"
            ]
          },
          "metadata": {}
        }
      ]
    }
  ]
}